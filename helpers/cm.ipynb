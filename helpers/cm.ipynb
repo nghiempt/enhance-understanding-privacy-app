{
 "cells": [
  {
   "cell_type": "code",
   "execution_count": 43,
   "metadata": {},
   "outputs": [],
   "source": [
    "import pandas as pd\n",
    "from sklearn.metrics import confusion_matrix, accuracy_score, precision_score, recall_score, f1_score"
   ]
  },
  {
   "cell_type": "code",
   "execution_count": 44,
   "metadata": {},
   "outputs": [
    {
     "name": "stdout",
     "output_type": "stream",
     "text": [
      "_______incorrect_______\n",
      "Precision: 0.6744186046511628\n",
      "Recall: 0.8285714285714286\n",
      "F1 score: 0.7435897435897435\n",
      "Accuracy: 0.6363636363636364\n",
      "______________________\n",
      "\n",
      "\n",
      "_______incomplete_______\n",
      "Precision: 0.7818181818181819\n",
      "Recall: 0.8113207547169812\n",
      "F1 score: 0.7962962962962964\n",
      "Accuracy: 0.78\n",
      "______________________\n",
      "\n",
      "\n",
      "_______inconsistent_______\n",
      "Precision: 0.6813186813186813\n",
      "Recall: 0.8732394366197183\n",
      "F1 score: 0.7654320987654322\n",
      "Accuracy: 0.62\n",
      "______________________\n",
      "\n",
      "\n"
     ]
    }
   ],
   "source": [
    "def calculate_metrics(confusion_matrix, cl):\n",
    "    # Calculate precision, recall, and F1 score from the confusion matrix\n",
    "    true_positive = confusion_matrix[1][1]\n",
    "    false_positive = confusion_matrix[0][1]\n",
    "    false_negative = confusion_matrix[1][0]\n",
    "    true_negative = confusion_matrix[0][0]\n",
    "\n",
    "    precision = true_positive / (true_positive + false_positive)\n",
    "    recall = true_positive / (true_positive + false_negative)\n",
    "    \n",
    "    # Calculate F1 score\n",
    "    f1_score = 2 * (precision * recall) / (precision + recall)\n",
    "    \n",
    "    # Calculate accuracy\n",
    "    accuracy = (true_positive + true_negative) / (true_positive + true_negative + false_positive + false_negative)\n",
    "    \n",
    "    print(\"_______\" + str(cl) + \"_______\")\n",
    "    print(\"Precision: \" + str(precision))\n",
    "    print(\"Recall: \" + str(recall))\n",
    "    print(\"F1 score: \" + str(f1_score))\n",
    "    print(\"Accuracy: \" + str(accuracy))\n",
    "    print(\"______________________\\n\\n\")\n",
    "    \n",
    "# =========== Times 06 - LLAMA =========== \n",
    "\n",
    "# Example confusion matrix\n",
    "c_m_icr = [[12, 28], [12, 58]]  # Format: [[true negative, false positive], [false negative, true positive]]\n",
    "c_m_icm = [[35, 12], [10, 43]]  # Format: [[true negative, false positive], [false negative, true positive]]\n",
    "c_m_ics = [[0, 29], [9, 62]]  # Format: [[true negative, false positive], [false negative, true positive]]\n",
    "\n",
    "# Calculate F1 score\n",
    "f1_score_icr = calculate_metrics(c_m_icr, \"incorrect\")\n",
    "f1_score_icm = calculate_metrics(c_m_icm, \"incomplete\")\n",
    "f1_score_ics = calculate_metrics(c_m_ics, \"inconsistent\")\n"
   ]
  },
  {
   "cell_type": "code",
   "execution_count": null,
   "metadata": {},
   "outputs": [],
   "source": []
  }
 ],
 "metadata": {
  "kernelspec": {
   "display_name": "Python 3 (ipykernel)",
   "language": "python",
   "name": "python3"
  },
  "language_info": {
   "codemirror_mode": {
    "name": "ipython",
    "version": 3
   },
   "file_extension": ".py",
   "mimetype": "text/x-python",
   "name": "python",
   "nbconvert_exporter": "python",
   "pygments_lexer": "ipython3",
   "version": "3.9.6"
  }
 },
 "nbformat": 4,
 "nbformat_minor": 2
}
